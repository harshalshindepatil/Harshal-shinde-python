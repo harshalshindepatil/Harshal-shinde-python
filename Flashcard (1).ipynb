{
 "cells": [
  {
   "cell_type": "code",
   "execution_count": 1,
   "id": "de206f1f-c2e4-44dc-8b7e-cd35ee2deda9",
   "metadata": {},
   "outputs": [
    {
     "name": "stdout",
     "output_type": "stream",
     "text": [
      "\n",
      "Flashcard App\n",
      "1. Add Flashcard\n",
      "2. View Flashcards\n",
      "3. Quiz Yourself\n",
      "4. Exit\n"
     ]
    },
    {
     "name": "stdin",
     "output_type": "stream",
     "text": [
      "Choose an option:  4\n"
     ]
    },
    {
     "name": "stdout",
     "output_type": "stream",
     "text": [
      "Goodbye!\n"
     ]
    }
   ],
   "source": [
    "import json\n",
    "import random\n",
    "\n",
    "# File to store flashcards\n",
    "FLASHCARD_FILE = 'flashcards.json'\n",
    "\n",
    "\n",
    "# Load flashcards from a file\n",
    "def load_flashcards():\n",
    "    try:\n",
    "        with open(FLASHCARD_FILE, 'r') as file:\n",
    "            return json.load(file)\n",
    "    except FileNotFoundError:\n",
    "        return {}\n",
    "\n",
    "\n",
    "# Save flashcards to a file\n",
    "def save_flashcards(flashcards):\n",
    "    with open(FLASHCARD_FILE, 'w') as file:\n",
    "        json.dump(flashcards, file)\n",
    "\n",
    "\n",
    "# Add a new flashcard\n",
    "def add_flashcard(flashcards):\n",
    "    question = input(\"Enter the question: \")\n",
    "    answer = input(\"Enter the answer: \")\n",
    "    flashcards[question] = answer\n",
    "    print(\"Flashcard added!\")\n",
    "\n",
    "\n",
    "# View all flashcards\n",
    "def view_flashcards(flashcards):\n",
    "    if not flashcards:\n",
    "        print(\"No flashcards available.\")\n",
    "        return\n",
    "    for question, answer in flashcards.items():\n",
    "        print(f\"Q: {question}\")\n",
    "        print(f\"A: {answer}\\n\")\n",
    "\n",
    "\n",
    "# Quiz with flashcards\n",
    "def quiz(flashcards):\n",
    "    if not flashcards:\n",
    "        print(\"No flashcards available.\")\n",
    "        return\n",
    "\n",
    "    questions = list(flashcards.keys())\n",
    "    random.shuffle(questions)\n",
    "\n",
    "    for question in questions:\n",
    "        print(f\"Q: {question}\")\n",
    "        user_answer = input(\"Your answer: \")\n",
    "        correct_answer = flashcards[question]\n",
    "        if user_answer.lower().strip() == correct_answer.lower().strip():\n",
    "            print(\"Correct!\")\n",
    "        else:\n",
    "            print(f\"Wrong! The correct answer is: {correct_answer}\")\n",
    "        print()\n",
    "\n",
    "\n",
    "def main():\n",
    "    flashcards = load_flashcards()\n",
    "\n",
    "    while True:\n",
    "        print(\"\\nFlashcard App\")\n",
    "        print(\"1. Add Flashcard\")\n",
    "        print(\"2. View Flashcards\")\n",
    "        print(\"3. Quiz Yourself\")\n",
    "        print(\"4. Exit\")\n",
    "\n",
    "        choice = input(\"Choose an option: \")\n",
    "\n",
    "        if choice == '1':\n",
    "            add_flashcard(flashcards)\n",
    "            save_flashcards(flashcards)\n",
    "        elif choice == '2':\n",
    "            view_flashcards(flashcards)\n",
    "        elif choice == '3':\n",
    "            quiz(flashcards)\n",
    "        elif choice == '4':\n",
    "            save_flashcards(flashcards)\n",
    "            print(\"Goodbye!\")\n",
    "            break\n",
    "        else:\n",
    "            print(\"Invalid choice, please try again.\")\n",
    "\n",
    "\n",
    "if __name__ == \"__main__\":\n",
    "    main()\n"
   ]
  },
  {
   "cell_type": "code",
   "execution_count": null,
   "id": "90b76857-a8ee-47a9-80a7-6d83c54e3125",
   "metadata": {},
   "outputs": [],
   "source": []
  }
 ],
 "metadata": {
  "kernelspec": {
   "display_name": "Python 3 (ipykernel)",
   "language": "python",
   "name": "python3"
  },
  "language_info": {
   "codemirror_mode": {
    "name": "ipython",
    "version": 3
   },
   "file_extension": ".py",
   "mimetype": "text/x-python",
   "name": "python",
   "nbconvert_exporter": "python",
   "pygments_lexer": "ipython3",
   "version": "3.12.4"
  }
 },
 "nbformat": 4,
 "nbformat_minor": 5
}
